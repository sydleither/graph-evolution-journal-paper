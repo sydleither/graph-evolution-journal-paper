{
 "cells": [
  {
   "cell_type": "markdown",
   "metadata": {},
   "source": [
    "# Parameter Sweep Analysis\n",
    "\n",
    "In order to choose the optimal parameters for the final experiments, we run a parameter sweep over over the following parameters: mutation rate, crossover rate, population size, tournament probability, and age gap. Each parameter can take on a low, medium, or high value.\n",
    "\n",
    "Parameter sweeps are run over two experiments: a two-objective run of purely topological property objectives and a three-objective run of purely edge-weight property objectives. How well the experiment performed is measured via the proportion of graphs perfectly optimized in the final population. The diversity of the experiment is measured via the entropy of select properties in the final population. Experiments that did not have a perfectly evolved final population do not have their diversity evaluated. The properties selected to have their diversity measured are purely edge-weight properties for the topological objective experiments and vice versa for the edge-weight objective experiments."
   ]
  },
  {
   "cell_type": "code",
   "execution_count": null,
   "metadata": {},
   "outputs": [],
   "source": [
    "import sys\n",
    "import pandas as pd\n",
    "sys.path.insert(0, \"../\")\n",
    "from paramsweep_jobs import get_parameter_values\n",
    "from paramsweep_analysis import plot_best_params, plot_parameter_diversity, plot_parameter_performance, score_params"
   ]
  },
  {
   "cell_type": "code",
   "execution_count": null,
   "metadata": {},
   "outputs": [],
   "source": [
    "def read_df(network_size):\n",
    "    df = pd.read_pickle(f\"../output/paramsweep/{network_size}/df.pkl\")\n",
    "    params = get_parameter_values(int(network_size))\n",
    "    param_names = list(params.keys())\n",
    "    for p,param in enumerate(param_names):\n",
    "        df[param] = df[\"param_set\"].str.split(\"_\").str[p].map(params[param])\n",
    "    return df, param_names"
   ]
  },
  {
   "cell_type": "markdown",
   "metadata": {},
   "source": [
    "## Size 10 Networks"
   ]
  },
  {
   "cell_type": "code",
   "execution_count": null,
   "metadata": {},
   "outputs": [],
   "source": [
    "network_size = 10\n",
    "df, param_names = read_df(network_size)"
   ]
  },
  {
   "cell_type": "markdown",
   "metadata": {},
   "source": [
    "### Single-parameter analysis - performance\n",
    "High crossover rate and high mutation rate lead to fewer optimized graphs across both experiments, although more significantly for the edge-weight experiments. All other differences in performance across parameters do not appear significant."
   ]
  },
  {
   "cell_type": "code",
   "execution_count": null,
   "metadata": {},
   "outputs": [],
   "source": [
    "plot_parameter_performance(df, network_size, param_names, \"optimized_proportion\", save=False)"
   ]
  },
  {
   "cell_type": "markdown",
   "metadata": {},
   "source": [
    "### Single-parameter analysis - diversity\n",
    "Changing a single parameter does not significantly change the entropy of the experiments. Entropy is biased with population size so no conclusions should be made from just this plot about population size and diversity."
   ]
  },
  {
   "cell_type": "code",
   "execution_count": null,
   "metadata": {},
   "outputs": [],
   "source": [
    "plot_parameter_diversity(df, network_size, param_names, \"entropy\", save=False)"
   ]
  },
  {
   "cell_type": "markdown",
   "metadata": {},
   "source": [
    "### Multi-parameter analysis - diversity\n",
    "The top figure shows the edge-weight objective experiment's diversity across the parameters leading to the top ten most diverse experiments. We see across all experiments that medium mutation rate, high population size, and low tournament probability lead to the highest entropy. Age gap has the highest entropy at low or medium. Crossover rate appears to not have an ideal parameter value.\n",
    "\n",
    "The bottom figure shows the topology objective experiment's diversity across the parameters leading to the top ten most diverse experiments. Low mutation rate and high population size lead to the highest entropy. Medium or high tournament probability leads to the highest entropy. The other parameters do not appear to have an overall ideal parameter value."
   ]
  },
  {
   "cell_type": "code",
   "execution_count": null,
   "metadata": {},
   "outputs": [],
   "source": [
    "plot_best_params(df, network_size, param_names, \"entropy\", save=False)"
   ]
  },
  {
   "cell_type": "markdown",
   "metadata": {},
   "source": [
    "### Best Parameter Set\n",
    "This counts how many times each parameter set had the best entropy across all experiments and diversity functions. Only the top parameter sets are returned."
   ]
  },
  {
   "cell_type": "code",
   "execution_count": null,
   "metadata": {},
   "outputs": [],
   "source": [
    "pd.set_option('display.expand_frame_repr', False)\n",
    "score_params(df, param_names, \"entropy\")"
   ]
  },
  {
   "cell_type": "markdown",
   "metadata": {},
   "source": [
    "### Conclusion\n",
    "Optimal parameters for size 10 networks\n",
    "- Low or medium crossover rate\n",
    "- Low or medium mutation rate\n",
    "- High population size\n",
    "- Medium tournament probability\n",
    "- Low age gap"
   ]
  },
  {
   "cell_type": "markdown",
   "metadata": {},
   "source": [
    "## Size 20 Networks"
   ]
  },
  {
   "cell_type": "code",
   "execution_count": null,
   "metadata": {},
   "outputs": [],
   "source": [
    "network_size = 20\n",
    "df, param_names = read_df(network_size)"
   ]
  },
  {
   "cell_type": "markdown",
   "metadata": {},
   "source": [
    "### Single-parameter analysis - performance\n",
    "All graphs in all runs are perfectly optimized."
   ]
  },
  {
   "cell_type": "code",
   "execution_count": null,
   "metadata": {},
   "outputs": [],
   "source": [
    "plot_parameter_performance(df, network_size, param_names, \"optimized_proportion\", save=False)"
   ]
  },
  {
   "cell_type": "markdown",
   "metadata": {},
   "source": [
    "### Single-parameter analysis - diversity\n",
    "Lower age gaps may lead to higher entropy."
   ]
  },
  {
   "cell_type": "code",
   "execution_count": null,
   "metadata": {},
   "outputs": [],
   "source": [
    "plot_parameter_diversity(df, network_size, param_names, \"entropy\", save=False)"
   ]
  },
  {
   "cell_type": "markdown",
   "metadata": {},
   "source": [
    "### Multi-parameter analysis - diversity"
   ]
  },
  {
   "cell_type": "code",
   "execution_count": null,
   "metadata": {},
   "outputs": [],
   "source": [
    "plot_best_params(df, network_size, param_names, \"entropy\", save=False)"
   ]
  },
  {
   "cell_type": "code",
   "execution_count": null,
   "metadata": {},
   "outputs": [],
   "source": [
    "pd.set_option('display.expand_frame_repr', False)\n",
    "score_params(df, param_names, \"entropy\")"
   ]
  },
  {
   "cell_type": "markdown",
   "metadata": {},
   "source": [
    "### Conclusion\n",
    "Optimal parameters for size 20 networks\n",
    "- Low crossover rate\n",
    "- Low mutation rate\n",
    "- High population size\n",
    "- Medium tournament probability\n",
    "- Low age gap"
   ]
  }
 ],
 "metadata": {
  "kernelspec": {
   "display_name": "graph",
   "language": "python",
   "name": "python3"
  },
  "language_info": {
   "codemirror_mode": {
    "name": "ipython",
    "version": 3
   },
   "file_extension": ".py",
   "mimetype": "text/x-python",
   "name": "python",
   "nbconvert_exporter": "python",
   "pygments_lexer": "ipython3",
   "version": "3.13.0"
  }
 },
 "nbformat": 4,
 "nbformat_minor": 2
}
